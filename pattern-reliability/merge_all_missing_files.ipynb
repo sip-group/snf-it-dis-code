{
 "cells": [
  {
   "cell_type": "code",
   "execution_count": 1,
   "metadata": {
    "collapsed": true,
    "ExecuteTime": {
     "start_time": "2023-04-25T15:24:29.599696Z",
     "end_time": "2023-04-25T15:24:29.599973Z"
    }
   },
   "outputs": [],
   "source": [
    "import csv\n",
    "import os"
   ]
  },
  {
   "cell_type": "code",
   "execution_count": 2,
   "outputs": [],
   "source": [
    "source = '/media/tuttj/phd_data/datasets/pattern_reliability_tifs_2023_hist_matched'\n",
    "\n",
    "missing = {'iphone': [], 'samsung': []}\n",
    "\n",
    "for file in ['iphone', 'samsung']:\n",
    "    scan_file = os.path.join(source, f'removed_{file}.csv')\n",
    "\n",
    "    with open(scan_file) as f:\n",
    "        r = csv.reader(f)\n",
    "        for row in r:\n",
    "            missing[file] += row\n",
    "\n",
    "    while '' in missing[file]:\n",
    "        missing[file].remove('')\n",
    "\n",
    "    missing[file] = [int(s) for s in missing[file]]\n",
    "    missing[file].sort()"
   ],
   "metadata": {
    "collapsed": false,
    "ExecuteTime": {
     "start_time": "2023-04-25T15:24:41.808780Z",
     "end_time": "2023-04-25T15:24:41.829951Z"
    }
   }
  },
  {
   "cell_type": "code",
   "execution_count": 4,
   "outputs": [],
   "source": [
    "total_missing = []\n",
    "\n",
    "for file in ['iphone', 'samsung']:\n",
    "    total_missing += missing[file]"
   ],
   "metadata": {
    "collapsed": false,
    "ExecuteTime": {
     "start_time": "2023-04-25T15:24:50.335799Z",
     "end_time": "2023-04-25T15:24:50.354911Z"
    }
   }
  },
  {
   "cell_type": "code",
   "execution_count": 7,
   "outputs": [],
   "source": [
    "a = list(set(total_missing))\n",
    "a.sort()"
   ],
   "metadata": {
    "collapsed": false,
    "ExecuteTime": {
     "start_time": "2023-04-25T15:25:12.044816Z",
     "end_time": "2023-04-25T15:25:12.102231Z"
    }
   }
  },
  {
   "cell_type": "code",
   "execution_count": 8,
   "outputs": [
    {
     "name": "stdout",
     "output_type": "stream",
     "text": [
      "[4, 8, 9, 10, 24, 26, 28, 29, 33, 36, 50, 55, 57, 75, 78, 79, 99, 103, 104, 107, 125, 128, 136, 142, 145, 147, 155, 156, 158, 159, 160, 166, 167, 187, 195, 196, 198, 199, 207, 218, 222, 228, 229, 237, 238, 240, 242, 243, 244, 252, 255, 258, 260, 263, 265, 267, 268, 269, 270, 274, 275, 277, 278, 280, 281, 288, 290, 291, 321, 323, 340, 341, 349, 366, 384, 390, 414, 441, 472, 484, 533, 534, 578, 579, 581, 583, 584, 606, 607, 623, 624, 625, 637, 646, 659, 660, 662, 663, 665, 666, 678, 691, 695, 700, 702, 703, 707, 708, 710, 711, 729, 732, 748, 754, 759, 803, 829, 835, 880, 882, 917, 929, 945, 951, 952, 967, 1001, 1013, 1015, 1024, 1046, 1047, 1050, 1055, 1057, 1075, 1084, 1085, 1094, 1096, 1100, 1122, 1124, 1129, 1130, 1131, 1134, 1135, 1137, 1143, 1146, 1157, 1165, 1168, 1174, 1181, 1195, 1212, 1217, 1224, 1230, 1237, 1238, 1241, 1251, 1252, 1253, 1264, 1265, 1266, 1269, 1285, 1289, 1291, 1297, 1298, 1299, 1307, 1312, 1333, 1336, 1337, 1338, 1341, 1348, 1349, 1356, 1357, 1361, 1366, 1371, 1372, 1378, 1384, 1396, 1397, 1404, 1422, 1425, 1433, 1434, 1436, 1438]\n"
     ]
    }
   ],
   "source": [
    "print(a)"
   ],
   "metadata": {
    "collapsed": false,
    "ExecuteTime": {
     "start_time": "2023-04-25T15:25:12.543967Z",
     "end_time": "2023-04-25T15:25:12.549148Z"
    }
   }
  },
  {
   "cell_type": "code",
   "execution_count": 17,
   "outputs": [],
   "source": [
    "with open(source + '/removed.csv', 'w') as f:\n",
    "    csv_writer = csv.writer(f)\n",
    "    csv_writer.writerow(a)\n"
   ],
   "metadata": {
    "collapsed": false,
    "ExecuteTime": {
     "start_time": "2023-04-25T15:29:51.470309Z",
     "end_time": "2023-04-25T15:29:51.475308Z"
    }
   }
  },
  {
   "cell_type": "code",
   "execution_count": null,
   "outputs": [],
   "source": [],
   "metadata": {
    "collapsed": false
   }
  }
 ],
 "metadata": {
  "kernelspec": {
   "display_name": "Python 3",
   "language": "python",
   "name": "python3"
  },
  "language_info": {
   "codemirror_mode": {
    "name": "ipython",
    "version": 2
   },
   "file_extension": ".py",
   "mimetype": "text/x-python",
   "name": "python",
   "nbconvert_exporter": "python",
   "pygments_lexer": "ipython2",
   "version": "2.7.6"
  }
 },
 "nbformat": 4,
 "nbformat_minor": 0
}
